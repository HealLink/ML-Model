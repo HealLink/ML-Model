{
 "cells": [
  {
   "cell_type": "code",
   "execution_count": 1,
   "metadata": {},
   "outputs": [],
   "source": [
    "model_path = \"model/model_bert_en_uncased_L-12_H-768_A-12\""
   ]
  },
  {
   "cell_type": "code",
   "execution_count": null,
   "metadata": {},
   "outputs": [
    {
     "name": "stdout",
     "output_type": "stream",
     "text": [
      "Found existing installation: tensorflow 2.6.2\n",
      "Uninstalling tensorflow-2.6.2:\n",
      "  Would remove:\n",
      "    /home/ryanfikri/anaconda3/envs/tfjs_capstone/bin/estimator_ckpt_converter\n",
      "    /home/ryanfikri/anaconda3/envs/tfjs_capstone/bin/import_pb_to_tensorboard\n",
      "    /home/ryanfikri/anaconda3/envs/tfjs_capstone/bin/saved_model_cli\n",
      "    /home/ryanfikri/anaconda3/envs/tfjs_capstone/bin/tensorboard\n",
      "    /home/ryanfikri/anaconda3/envs/tfjs_capstone/bin/tf_upgrade_v2\n",
      "    /home/ryanfikri/anaconda3/envs/tfjs_capstone/bin/tflite_convert\n",
      "    /home/ryanfikri/anaconda3/envs/tfjs_capstone/bin/toco\n",
      "    /home/ryanfikri/anaconda3/envs/tfjs_capstone/bin/toco_from_protos\n",
      "    /home/ryanfikri/anaconda3/envs/tfjs_capstone/lib/python3.6/site-packages/tensorflow-2.6.2.dist-info/*\n",
      "    /home/ryanfikri/anaconda3/envs/tfjs_capstone/lib/python3.6/site-packages/tensorflow/*\n",
      "Proceed (Y/n)? ^C\n",
      "\u001b[31mERROR: Operation cancelled by user\u001b[0m\n",
      "Note: you may need to restart the kernel to use updated packages.\n",
      "Collecting tensorflow==1.13.2\n",
      "  Downloading tensorflow-1.13.2-cp36-cp36m-manylinux1_x86_64.whl (92.6 MB)\n",
      "     |██████████▏                     | 29.4 MB 3.8 MB/s eta 0:00:17"
     ]
    }
   ],
   "source": [
    "%pip uninstall tensorflow\n",
    "%pip install tensorflow==1.13.2"
   ]
  },
  {
   "cell_type": "code",
   "execution_count": 2,
   "metadata": {},
   "outputs": [
    {
     "data": {
      "text/plain": [
       "'2.6.2'"
      ]
     },
     "execution_count": 2,
     "metadata": {},
     "output_type": "execute_result"
    }
   ],
   "source": [
    "import tensorflow as tf\n",
    "tf.__version__"
   ]
  },
  {
   "cell_type": "code",
   "execution_count": 12,
   "metadata": {},
   "outputs": [
    {
     "name": "stdout",
     "output_type": "stream",
     "text": [
      "Requirement already satisfied: tensorflowjs in /home/ryanfikri/anaconda3/envs/tfjs_capstone/lib/python3.6/site-packages (3.18.0)\n",
      "Requirement already satisfied: packaging~=20.9 in /home/ryanfikri/anaconda3/envs/tfjs_capstone/lib/python3.6/site-packages (from tensorflowjs) (20.9)\n",
      "Requirement already satisfied: tensorflow-hub<0.13,>=0.7.0 in /home/ryanfikri/anaconda3/envs/tfjs_capstone/lib/python3.6/site-packages (from tensorflowjs) (0.12.0)\n",
      "Requirement already satisfied: tensorflow<3,>=2.1.0 in /home/ryanfikri/anaconda3/envs/tfjs_capstone/lib/python3.6/site-packages (from tensorflowjs) (2.6.2)\n",
      "Requirement already satisfied: six<2,>=1.12.0 in /home/ryanfikri/anaconda3/envs/tfjs_capstone/lib/python3.6/site-packages (from tensorflowjs) (1.15.0)\n",
      "Requirement already satisfied: pyparsing>=2.0.2 in /home/ryanfikri/anaconda3/envs/tfjs_capstone/lib/python3.6/site-packages (from packaging~=20.9->tensorflowjs) (3.1.4)\n",
      "Requirement already satisfied: typing-extensions~=3.7.4 in /home/ryanfikri/anaconda3/envs/tfjs_capstone/lib/python3.6/site-packages (from tensorflow<3,>=2.1.0->tensorflowjs) (3.7.4.3)\n",
      "Requirement already satisfied: tensorflow-estimator<2.7,>=2.6.0 in /home/ryanfikri/anaconda3/envs/tfjs_capstone/lib/python3.6/site-packages (from tensorflow<3,>=2.1.0->tensorflowjs) (2.6.0)\n",
      "Requirement already satisfied: protobuf>=3.9.2 in /home/ryanfikri/anaconda3/envs/tfjs_capstone/lib/python3.6/site-packages (from tensorflow<3,>=2.1.0->tensorflowjs) (3.19.6)\n",
      "Requirement already satisfied: tensorboard<2.7,>=2.6.0 in /home/ryanfikri/anaconda3/envs/tfjs_capstone/lib/python3.6/site-packages (from tensorflow<3,>=2.1.0->tensorflowjs) (2.6.0)\n",
      "Requirement already satisfied: grpcio<2.0,>=1.37.0 in /home/ryanfikri/anaconda3/envs/tfjs_capstone/lib/python3.6/site-packages (from tensorflow<3,>=2.1.0->tensorflowjs) (1.48.2)\n",
      "Requirement already satisfied: keras-preprocessing~=1.1.2 in /home/ryanfikri/anaconda3/envs/tfjs_capstone/lib/python3.6/site-packages (from tensorflow<3,>=2.1.0->tensorflowjs) (1.1.2)\n",
      "Requirement already satisfied: keras<2.7,>=2.6.0 in /home/ryanfikri/anaconda3/envs/tfjs_capstone/lib/python3.6/site-packages (from tensorflow<3,>=2.1.0->tensorflowjs) (2.6.0)\n",
      "Requirement already satisfied: clang~=5.0 in /home/ryanfikri/anaconda3/envs/tfjs_capstone/lib/python3.6/site-packages (from tensorflow<3,>=2.1.0->tensorflowjs) (5.0)\n",
      "Requirement already satisfied: astunparse~=1.6.3 in /home/ryanfikri/anaconda3/envs/tfjs_capstone/lib/python3.6/site-packages (from tensorflow<3,>=2.1.0->tensorflowjs) (1.6.3)\n",
      "Requirement already satisfied: absl-py~=0.10 in /home/ryanfikri/anaconda3/envs/tfjs_capstone/lib/python3.6/site-packages (from tensorflow<3,>=2.1.0->tensorflowjs) (0.15.0)\n",
      "Requirement already satisfied: numpy~=1.19.2 in /home/ryanfikri/anaconda3/envs/tfjs_capstone/lib/python3.6/site-packages (from tensorflow<3,>=2.1.0->tensorflowjs) (1.19.5)\n",
      "Requirement already satisfied: google-pasta~=0.2 in /home/ryanfikri/anaconda3/envs/tfjs_capstone/lib/python3.6/site-packages (from tensorflow<3,>=2.1.0->tensorflowjs) (0.2.0)\n",
      "Requirement already satisfied: opt-einsum~=3.3.0 in /home/ryanfikri/anaconda3/envs/tfjs_capstone/lib/python3.6/site-packages (from tensorflow<3,>=2.1.0->tensorflowjs) (3.3.0)\n",
      "Requirement already satisfied: termcolor~=1.1.0 in /home/ryanfikri/anaconda3/envs/tfjs_capstone/lib/python3.6/site-packages (from tensorflow<3,>=2.1.0->tensorflowjs) (1.1.0)\n",
      "Requirement already satisfied: wheel~=0.35 in /home/ryanfikri/anaconda3/envs/tfjs_capstone/lib/python3.6/site-packages (from tensorflow<3,>=2.1.0->tensorflowjs) (0.37.1)\n",
      "Requirement already satisfied: gast==0.4.0 in /home/ryanfikri/anaconda3/envs/tfjs_capstone/lib/python3.6/site-packages (from tensorflow<3,>=2.1.0->tensorflowjs) (0.4.0)\n",
      "Requirement already satisfied: h5py~=3.1.0 in /home/ryanfikri/anaconda3/envs/tfjs_capstone/lib/python3.6/site-packages (from tensorflow<3,>=2.1.0->tensorflowjs) (3.1.0)\n",
      "Requirement already satisfied: wrapt~=1.12.1 in /home/ryanfikri/anaconda3/envs/tfjs_capstone/lib/python3.6/site-packages (from tensorflow<3,>=2.1.0->tensorflowjs) (1.12.1)\n",
      "Requirement already satisfied: flatbuffers~=1.12.0 in /home/ryanfikri/anaconda3/envs/tfjs_capstone/lib/python3.6/site-packages (from tensorflow<3,>=2.1.0->tensorflowjs) (1.12)\n",
      "Requirement already satisfied: cached-property in /home/ryanfikri/anaconda3/envs/tfjs_capstone/lib/python3.6/site-packages (from h5py~=3.1.0->tensorflow<3,>=2.1.0->tensorflowjs) (1.5.2)\n",
      "Requirement already satisfied: google-auth-oauthlib<0.5,>=0.4.1 in /home/ryanfikri/anaconda3/envs/tfjs_capstone/lib/python3.6/site-packages (from tensorboard<2.7,>=2.6.0->tensorflow<3,>=2.1.0->tensorflowjs) (0.4.6)\n",
      "Requirement already satisfied: werkzeug>=0.11.15 in /home/ryanfikri/anaconda3/envs/tfjs_capstone/lib/python3.6/site-packages (from tensorboard<2.7,>=2.6.0->tensorflow<3,>=2.1.0->tensorflowjs) (2.0.3)\n",
      "Requirement already satisfied: tensorboard-data-server<0.7.0,>=0.6.0 in /home/ryanfikri/anaconda3/envs/tfjs_capstone/lib/python3.6/site-packages (from tensorboard<2.7,>=2.6.0->tensorflow<3,>=2.1.0->tensorflowjs) (0.6.1)\n",
      "Requirement already satisfied: tensorboard-plugin-wit>=1.6.0 in /home/ryanfikri/anaconda3/envs/tfjs_capstone/lib/python3.6/site-packages (from tensorboard<2.7,>=2.6.0->tensorflow<3,>=2.1.0->tensorflowjs) (1.8.1)\n",
      "Requirement already satisfied: setuptools>=41.0.0 in /home/ryanfikri/anaconda3/envs/tfjs_capstone/lib/python3.6/site-packages (from tensorboard<2.7,>=2.6.0->tensorflow<3,>=2.1.0->tensorflowjs) (58.0.4)\n",
      "Requirement already satisfied: markdown>=2.6.8 in /home/ryanfikri/anaconda3/envs/tfjs_capstone/lib/python3.6/site-packages (from tensorboard<2.7,>=2.6.0->tensorflow<3,>=2.1.0->tensorflowjs) (3.3.7)\n",
      "Requirement already satisfied: google-auth<2,>=1.6.3 in /home/ryanfikri/anaconda3/envs/tfjs_capstone/lib/python3.6/site-packages (from tensorboard<2.7,>=2.6.0->tensorflow<3,>=2.1.0->tensorflowjs) (1.35.0)\n",
      "Requirement already satisfied: requests<3,>=2.21.0 in /home/ryanfikri/anaconda3/envs/tfjs_capstone/lib/python3.6/site-packages (from tensorboard<2.7,>=2.6.0->tensorflow<3,>=2.1.0->tensorflowjs) (2.27.1)\n",
      "Requirement already satisfied: rsa<5,>=3.1.4 in /home/ryanfikri/anaconda3/envs/tfjs_capstone/lib/python3.6/site-packages (from google-auth<2,>=1.6.3->tensorboard<2.7,>=2.6.0->tensorflow<3,>=2.1.0->tensorflowjs) (4.9)\n",
      "Requirement already satisfied: pyasn1-modules>=0.2.1 in /home/ryanfikri/anaconda3/envs/tfjs_capstone/lib/python3.6/site-packages (from google-auth<2,>=1.6.3->tensorboard<2.7,>=2.6.0->tensorflow<3,>=2.1.0->tensorflowjs) (0.3.0)\n",
      "Requirement already satisfied: cachetools<5.0,>=2.0.0 in /home/ryanfikri/anaconda3/envs/tfjs_capstone/lib/python3.6/site-packages (from google-auth<2,>=1.6.3->tensorboard<2.7,>=2.6.0->tensorflow<3,>=2.1.0->tensorflowjs) (4.2.4)\n",
      "Requirement already satisfied: requests-oauthlib>=0.7.0 in /home/ryanfikri/anaconda3/envs/tfjs_capstone/lib/python3.6/site-packages (from google-auth-oauthlib<0.5,>=0.4.1->tensorboard<2.7,>=2.6.0->tensorflow<3,>=2.1.0->tensorflowjs) (2.0.0)\n",
      "Requirement already satisfied: importlib-metadata>=4.4 in /home/ryanfikri/anaconda3/envs/tfjs_capstone/lib/python3.6/site-packages (from markdown>=2.6.8->tensorboard<2.7,>=2.6.0->tensorflow<3,>=2.1.0->tensorflowjs) (4.8.3)\n",
      "Requirement already satisfied: urllib3<1.27,>=1.21.1 in /home/ryanfikri/anaconda3/envs/tfjs_capstone/lib/python3.6/site-packages (from requests<3,>=2.21.0->tensorboard<2.7,>=2.6.0->tensorflow<3,>=2.1.0->tensorflowjs) (1.26.20)\n",
      "Requirement already satisfied: charset-normalizer~=2.0.0 in /home/ryanfikri/anaconda3/envs/tfjs_capstone/lib/python3.6/site-packages (from requests<3,>=2.21.0->tensorboard<2.7,>=2.6.0->tensorflow<3,>=2.1.0->tensorflowjs) (2.0.12)\n",
      "Requirement already satisfied: idna<4,>=2.5 in /home/ryanfikri/anaconda3/envs/tfjs_capstone/lib/python3.6/site-packages (from requests<3,>=2.21.0->tensorboard<2.7,>=2.6.0->tensorflow<3,>=2.1.0->tensorflowjs) (3.10)\n",
      "Requirement already satisfied: certifi>=2017.4.17 in /home/ryanfikri/anaconda3/envs/tfjs_capstone/lib/python3.6/site-packages (from requests<3,>=2.21.0->tensorboard<2.7,>=2.6.0->tensorflow<3,>=2.1.0->tensorflowjs) (2021.5.30)\n",
      "Requirement already satisfied: dataclasses in /home/ryanfikri/anaconda3/envs/tfjs_capstone/lib/python3.6/site-packages (from werkzeug>=0.11.15->tensorboard<2.7,>=2.6.0->tensorflow<3,>=2.1.0->tensorflowjs) (0.8)\n",
      "Requirement already satisfied: zipp>=0.5 in /home/ryanfikri/anaconda3/envs/tfjs_capstone/lib/python3.6/site-packages (from importlib-metadata>=4.4->markdown>=2.6.8->tensorboard<2.7,>=2.6.0->tensorflow<3,>=2.1.0->tensorflowjs) (3.6.0)\n",
      "Requirement already satisfied: pyasn1<0.6.0,>=0.4.6 in /home/ryanfikri/anaconda3/envs/tfjs_capstone/lib/python3.6/site-packages (from pyasn1-modules>=0.2.1->google-auth<2,>=1.6.3->tensorboard<2.7,>=2.6.0->tensorflow<3,>=2.1.0->tensorflowjs) (0.5.1)\n",
      "Requirement already satisfied: oauthlib>=3.0.0 in /home/ryanfikri/anaconda3/envs/tfjs_capstone/lib/python3.6/site-packages (from requests-oauthlib>=0.7.0->google-auth-oauthlib<0.5,>=0.4.1->tensorboard<2.7,>=2.6.0->tensorflow<3,>=2.1.0->tensorflowjs) (3.2.2)\n",
      "Note: you may need to restart the kernel to use updated packages.\n"
     ]
    }
   ],
   "source": [
    "%pip install tensorflowjs"
   ]
  },
  {
   "cell_type": "code",
   "execution_count": 2,
   "metadata": {},
   "outputs": [],
   "source": [
    "import tensorflow_text as text"
   ]
  },
  {
   "cell_type": "code",
   "execution_count": 5,
   "metadata": {},
   "outputs": [
    {
     "data": {
      "text/plain": [
       "'3.18.0'"
      ]
     },
     "execution_count": 5,
     "metadata": {},
     "output_type": "execute_result"
    }
   ],
   "source": [
    "import tensorflowjs as tfjs\n",
    "tfjs.__version__"
   ]
  },
  {
   "cell_type": "code",
   "execution_count": 6,
   "metadata": {},
   "outputs": [
    {
     "name": "stdout",
     "output_type": "stream",
     "text": [
      "2024-12-07 05:41:53.692832: W tensorflow/stream_executor/platform/default/dso_loader.cc:64] Could not load dynamic library 'libcudart.so.11.0'; dlerror: libcudart.so.11.0: cannot open shared object file: No such file or directory\n",
      "2024-12-07 05:41:53.692914: I tensorflow/stream_executor/cuda/cudart_stub.cc:29] Ignore above cudart dlerror if you do not have a GPU set up on your machine.\n",
      "2024-12-07 05:41:56.753505: I tensorflow/stream_executor/cuda/cuda_gpu_executor.cc:923] could not open file to read NUMA node: /sys/bus/pci/devices/0000:01:00.0/numa_node\n",
      "Your kernel may have been built without NUMA support.\n",
      "2024-12-07 05:41:56.753919: W tensorflow/stream_executor/platform/default/dso_loader.cc:64] Could not load dynamic library 'libcudart.so.11.0'; dlerror: libcudart.so.11.0: cannot open shared object file: No such file or directory\n",
      "2024-12-07 05:41:56.753988: W tensorflow/stream_executor/platform/default/dso_loader.cc:64] Could not load dynamic library 'libcublas.so.11'; dlerror: libcublas.so.11: cannot open shared object file: No such file or directory\n",
      "2024-12-07 05:41:56.754050: W tensorflow/stream_executor/platform/default/dso_loader.cc:64] Could not load dynamic library 'libcublasLt.so.11'; dlerror: libcublasLt.so.11: cannot open shared object file: No such file or directory\n",
      "2024-12-07 05:41:56.754109: W tensorflow/stream_executor/platform/default/dso_loader.cc:64] Could not load dynamic library 'libcufft.so.10'; dlerror: libcufft.so.10: cannot open shared object file: No such file or directory\n",
      "2024-12-07 05:41:57.040611: W tensorflow/stream_executor/platform/default/dso_loader.cc:64] Could not load dynamic library 'libcusparse.so.11'; dlerror: libcusparse.so.11: cannot open shared object file: No such file or directory\n",
      "2024-12-07 05:41:57.040775: W tensorflow/stream_executor/platform/default/dso_loader.cc:64] Could not load dynamic library 'libcudnn.so.8'; dlerror: libcudnn.so.8: cannot open shared object file: No such file or directory\n",
      "2024-12-07 05:41:57.040815: W tensorflow/core/common_runtime/gpu/gpu_device.cc:1835] Cannot dlopen some GPU libraries. Please make sure the missing libraries mentioned above are installed properly if you would like to use GPU. Follow the guide at https://www.tensorflow.org/install/gpu for how to download and setup the required libraries for your platform.\n",
      "Skipping registering GPU devices...\n",
      "2024-12-07 05:41:57.041181: I tensorflow/core/platform/cpu_feature_guard.cc:142] This TensorFlow binary is optimized with oneAPI Deep Neural Network Library (oneDNN) to use the following CPU instructions in performance-critical operations:  AVX2 FMA\n",
      "To enable them in other operations, rebuild TensorFlow with the appropriate compiler flags.\n",
      "Traceback (most recent call last):\n",
      "  File \"/home/ryanfikri/anaconda3/envs/tfjs_capstone/lib/python3.6/site-packages/tensorflow/python/framework/ops.py\", line 3962, in _get_op_def\n",
      "    return self._op_def_cache[type]\n",
      "KeyError: 'CaseFoldUTF8'\n",
      "\n",
      "During handling of the above exception, another exception occurred:\n",
      "\n",
      "Traceback (most recent call last):\n",
      "  File \"/home/ryanfikri/anaconda3/envs/tfjs_capstone/lib/python3.6/site-packages/tensorflow/python/saved_model/load.py\", line 903, in load_internal\n",
      "    ckpt_options, options, filters)\n",
      "  File \"/home/ryanfikri/anaconda3/envs/tfjs_capstone/lib/python3.6/site-packages/tensorflow/python/saved_model/load.py\", line 138, in __init__\n",
      "    meta_graph.graph_def.library, wrapper_function=_WrapperFunction))\n",
      "  File \"/home/ryanfikri/anaconda3/envs/tfjs_capstone/lib/python3.6/site-packages/tensorflow/python/saved_model/function_deserialization.py\", line 388, in load_function_def_library\n",
      "    func_graph = function_def_lib.function_def_to_graph(copy)\n",
      "  File \"/home/ryanfikri/anaconda3/envs/tfjs_capstone/lib/python3.6/site-packages/tensorflow/python/framework/function_def_to_graph.py\", line 64, in function_def_to_graph\n",
      "    fdef, input_shapes)\n",
      "  File \"/home/ryanfikri/anaconda3/envs/tfjs_capstone/lib/python3.6/site-packages/tensorflow/python/framework/function_def_to_graph.py\", line 228, in function_def_to_graph_def\n",
      "    op_def = default_graph._get_op_def(node_def.op)  # pylint: disable=protected-access\n",
      "  File \"/home/ryanfikri/anaconda3/envs/tfjs_capstone/lib/python3.6/site-packages/tensorflow/python/framework/ops.py\", line 3967, in _get_op_def\n",
      "    buf)\n",
      "tensorflow.python.framework.errors_impl.NotFoundError: Op type not registered 'CaseFoldUTF8' in binary running on DESKTOP-5BUPJCU. Make sure the Op and Kernel are registered in the binary running in this process. Note that if you are loading a saved graph which used ops from tf.contrib, accessing (e.g.) `tf.contrib.resampler` should be done before importing the graph, as contrib ops are lazily registered when the module is first accessed.\n",
      "\n",
      "During handling of the above exception, another exception occurred:\n",
      "\n",
      "Traceback (most recent call last):\n",
      "  File \"/home/ryanfikri/anaconda3/envs/tfjs_capstone/bin/tensorflowjs_converter\", line 8, in <module>\n",
      "    sys.exit(pip_main())\n",
      "  File \"/home/ryanfikri/anaconda3/envs/tfjs_capstone/lib/python3.6/site-packages/tensorflowjs/converters/converter.py\", line 813, in pip_main\n",
      "    main([' '.join(sys.argv[1:])])\n",
      "  File \"/home/ryanfikri/anaconda3/envs/tfjs_capstone/lib/python3.6/site-packages/tensorflowjs/converters/converter.py\", line 817, in main\n",
      "    convert(argv[0].split(' '))\n",
      "  File \"/home/ryanfikri/anaconda3/envs/tfjs_capstone/lib/python3.6/site-packages/tensorflowjs/converters/converter.py\", line 804, in convert\n",
      "    weight_shard_size_bytes, metadata_map)\n",
      "  File \"/home/ryanfikri/anaconda3/envs/tfjs_capstone/lib/python3.6/site-packages/tensorflowjs/converters/converter.py\", line 533, in _dispatch_converter\n",
      "    metadata=metadata_map)\n",
      "  File \"/home/ryanfikri/anaconda3/envs/tfjs_capstone/lib/python3.6/site-packages/tensorflowjs/converters/tf_saved_model_conversion_v2.py\", line 775, in convert_tf_saved_model\n",
      "    metadata=metadata)\n",
      "  File \"/home/ryanfikri/anaconda3/envs/tfjs_capstone/lib/python3.6/site-packages/tensorflowjs/converters/tf_saved_model_conversion_v2.py\", line 608, in _convert_tf_saved_model\n",
      "    model = _load_model(saved_model_dir, saved_model_tags_list)\n",
      "  File \"/home/ryanfikri/anaconda3/envs/tfjs_capstone/lib/python3.6/site-packages/tensorflowjs/converters/tf_saved_model_conversion_v2.py\", line 541, in _load_model\n",
      "    model = load(saved_model_dir, saved_model_tags)\n",
      "  File \"/home/ryanfikri/anaconda3/envs/tfjs_capstone/lib/python3.6/site-packages/tensorflow/python/saved_model/load.py\", line 864, in load\n",
      "    result = load_internal(export_dir, tags, options)[\"root\"]\n",
      "  File \"/home/ryanfikri/anaconda3/envs/tfjs_capstone/lib/python3.6/site-packages/tensorflow/python/saved_model/load.py\", line 906, in load_internal\n",
      "    str(err) + \"\\n If trying to load on a different device from the \"\n",
      "FileNotFoundError: Op type not registered 'CaseFoldUTF8' in binary running on DESKTOP-5BUPJCU. Make sure the Op and Kernel are registered in the binary running in this process. Note that if you are loading a saved graph which used ops from tf.contrib, accessing (e.g.) `tf.contrib.resampler` should be done before importing the graph, as contrib ops are lazily registered when the module is first accessed.\n",
      " If trying to load on a different device from the computational device, consider using setting the `experimental_io_device` option on tf.saved_model.LoadOptions to the io_device such as '/job:localhost'.\n"
     ]
    }
   ],
   "source": [
    "!tensorflowjs_converter --input_format=tf_saved_model ./model/model_bert_en_uncased_L12_H768_A12 ./model/test_tfjs --skip_op_check"
   ]
  },
  {
   "cell_type": "code",
   "execution_count": 5,
   "metadata": {},
   "outputs": [
    {
     "name": "stdout",
     "output_type": "stream",
     "text": [
      "2024-12-06 20:35:18.818961: W tensorflow/stream_executor/platform/default/dso_loader.cc:64] Could not load dynamic library 'libcudart.so.11.0'; dlerror: libcudart.so.11.0: cannot open shared object file: No such file or directory\n",
      "2024-12-06 20:35:18.819007: I tensorflow/stream_executor/cuda/cudart_stub.cc:29] Ignore above cudart dlerror if you do not have a GPU set up on your machine.\n",
      "Traceback (most recent call last):\n",
      "  File \"/home/ryanfikri/anaconda3/envs/tfjs_capstone/bin/tensorflowjs_converter\", line 8, in <module>\n",
      "    sys.exit(pip_main())\n",
      "  File \"/home/ryanfikri/anaconda3/envs/tfjs_capstone/lib/python3.6/site-packages/tensorflowjs/converters/converter.py\", line 813, in pip_main\n",
      "    main([' '.join(sys.argv[1:])])\n",
      "  File \"/home/ryanfikri/anaconda3/envs/tfjs_capstone/lib/python3.6/site-packages/tensorflowjs/converters/converter.py\", line 817, in main\n",
      "    convert(argv[0].split(' '))\n",
      "  File \"/home/ryanfikri/anaconda3/envs/tfjs_capstone/lib/python3.6/site-packages/tensorflowjs/converters/converter.py\", line 804, in convert\n",
      "    weight_shard_size_bytes, metadata_map)\n",
      "  File \"/home/ryanfikri/anaconda3/envs/tfjs_capstone/lib/python3.6/site-packages/tensorflowjs/converters/converter.py\", line 533, in _dispatch_converter\n",
      "    metadata=metadata_map)\n",
      "  File \"/home/ryanfikri/anaconda3/envs/tfjs_capstone/lib/python3.6/site-packages/tensorflowjs/converters/tf_saved_model_conversion_v2.py\", line 775, in convert_tf_saved_model\n",
      "    metadata=metadata)\n",
      "  File \"/home/ryanfikri/anaconda3/envs/tfjs_capstone/lib/python3.6/site-packages/tensorflowjs/converters/tf_saved_model_conversion_v2.py\", line 607, in _convert_tf_saved_model\n",
      "    signature_def)\n",
      "  File \"/home/ryanfikri/anaconda3/envs/tfjs_capstone/lib/python3.6/site-packages/tensorflowjs/converters/tf_saved_model_conversion_v2.py\", line 547, in _find_signature\n",
      "    signature_def_map = get_signature_def_map(saved_model_dir, saved_model_tags)\n",
      "  File \"/home/ryanfikri/anaconda3/envs/tfjs_capstone/lib/python3.6/site-packages/tensorflow/python/tools/saved_model_cli.py\", line 348, in get_signature_def_map\n",
      "    meta_graph = saved_model_utils.get_meta_graph_def(saved_model_dir, tag_set)\n",
      "  File \"/home/ryanfikri/anaconda3/envs/tfjs_capstone/lib/python3.6/site-packages/tensorflow/python/tools/saved_model_utils.py\", line 117, in get_meta_graph_def\n",
      "    saved_model = read_saved_model(saved_model_dir)\n",
      "  File \"/home/ryanfikri/anaconda3/envs/tfjs_capstone/lib/python3.6/site-packages/tensorflow/python/tools/saved_model_utils.py\", line 55, in read_saved_model\n",
      "    raise IOError(\"SavedModel file does not exist at: %s\" % saved_model_dir)\n",
      "OSError: SavedModel file does not exist at: ./my_models/checkpoint_03.tf\n"
     ]
    }
   ],
   "source": [
    "!tensorflowjs_converter \\\n",
    "    --input_format=tf_saved_model \\\n",
    "    --output_node_names='test_convert' \\\n",
    "    --saved_model_tags=serve \\\n",
    "    ./my_models/checkpoint_03.tf \\\n",
    "    ./my_models/test_tfjs"
   ]
  },
  {
   "cell_type": "code",
   "execution_count": null,
   "metadata": {},
   "outputs": [],
   "source": []
  }
 ],
 "metadata": {
  "kernelspec": {
   "display_name": "tfjs_capstone",
   "language": "python",
   "name": "python3"
  },
  "language_info": {
   "codemirror_mode": {
    "name": "ipython",
    "version": 3
   },
   "file_extension": ".py",
   "mimetype": "text/x-python",
   "name": "python",
   "nbconvert_exporter": "python",
   "pygments_lexer": "ipython3",
   "version": "3.6.15"
  }
 },
 "nbformat": 4,
 "nbformat_minor": 2
}
