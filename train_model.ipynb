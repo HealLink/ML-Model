{
 "cells": [
  {
   "cell_type": "code",
   "execution_count": 1,
   "metadata": {},
   "outputs": [
    {
     "name": "stderr",
     "output_type": "stream",
     "text": [
      "2024-11-16 04:34:49.961576: E external/local_xla/xla/stream_executor/cuda/cuda_fft.cc:477] Unable to register cuFFT factory: Attempting to register factory for plugin cuFFT when one has already been registered\n",
      "WARNING: All log messages before absl::InitializeLog() is called are written to STDERR\n",
      "E0000 00:00:1731706489.975990   12210 cuda_dnn.cc:8310] Unable to register cuDNN factory: Attempting to register factory for plugin cuDNN when one has already been registered\n",
      "E0000 00:00:1731706489.980086   12210 cuda_blas.cc:1418] Unable to register cuBLAS factory: Attempting to register factory for plugin cuBLAS when one has already been registered\n",
      "2024-11-16 04:34:49.993726: I tensorflow/core/platform/cpu_feature_guard.cc:210] This TensorFlow binary is optimized to use available CPU instructions in performance-critical operations.\n",
      "To enable the following instructions: AVX2 FMA, in other operations, rebuild TensorFlow with the appropriate compiler flags.\n"
     ]
    }
   ],
   "source": [
    "\n",
    "import tensorflow as tf\n",
    "import numpy as np\n",
    "import matplotlib.pyplot as plt\n",
    "import pandas as pd\n",
    "import csv\n",
    "import re"
   ]
  },
  {
   "cell_type": "code",
   "execution_count": 2,
   "metadata": {},
   "outputs": [
    {
     "name": "stdout",
     "output_type": "stream",
     "text": [
      "First line (header) looks like this:\n",
      "\n",
      "statement,status\n",
      "\n",
      "The second line (first data point) looks like this:\n",
      "\n",
      "oh my gosh,Anxiety\n",
      "\n",
      "The third line (first data point) looks like this:\n",
      "\n",
      "\"trouble sleeping, confused mind, restless heart. All out of tune\",Anxiety\n",
      "\n"
     ]
    }
   ],
   "source": [
    "with open(\"data/a/cleaned_data.csv\", 'r') as csvfile:\n",
    "    print(f\"First line (header) looks like this:\\n\\n{csvfile.readline()}\")\n",
    "    print(f\"The second line (first data point) looks like this:\\n\\n{csvfile.readline()}\")\n",
    "    print(f\"The third line (first data point) looks like this:\\n\\n{csvfile.readline()}\")"
   ]
  },
  {
   "cell_type": "code",
   "execution_count": 46,
   "metadata": {},
   "outputs": [],
   "source": [
    "VOCAB_SIZE = 10000\n",
    "EMBEDDING_DIM = 16\n",
    "MAX_LENGTH = 134\n",
    "TRAINING_SPLIT = 0.8\n",
    "BATCH_SIZE = 32\n",
    "FILENAME = \"data/a/cleaned_data.csv\"\n",
    "STOPWORDS = [\"a\", \"about\", \"above\", \"after\", \"again\", \"against\", \"all\", \"am\", \"an\", \"and\", \"any\", \"are\", \"as\", \"at\", \"be\", \"because\", \"been\", \"before\", \"being\", \"below\", \"between\", \"both\", \"but\", \"by\", \"could\", \"did\", \"do\", \"does\", \"doing\", \"down\", \"during\", \"each\", \"few\", \"for\", \"from\", \"further\", \"had\", \"has\", \"have\", \"having\", \"he\", \"he'd\", \"he'll\", \"he's\", \"her\", \"here\", \"here's\", \"hers\", \"herself\", \"him\", \"himself\", \"his\", \"how\", \"how's\", \"i\", \"i'd\", \"i'll\", \"i'm\", \"i've\", \"if\", \"in\", \"into\", \"is\", \"it\", \"it's\", \"its\", \"itself\", \"let's\", \"me\", \"more\", \"most\", \"my\", \"myself\", \"nor\", \"of\", \"on\", \"once\", \"only\", \"or\", \"other\", \"ought\", \"our\", \"ours\", \"ourselves\", \"out\", \"over\", \"own\", \"same\", \"she\", \"she'd\", \"she'll\", \"she's\", \"should\", \"so\", \"some\", \"such\", \"than\", \"that\", \"that's\", \"the\", \"their\", \"theirs\", \"them\", \"themselves\", \"then\", \"there\", \"there's\", \"these\", \"they\", \"they'd\", \"they'll\", \"they're\", \"they've\", \"this\", \"those\", \"through\", \"to\", \"too\", \"under\", \"until\", \"up\", \"very\", \"was\", \"we\", \"we'd\", \"we'll\", \"we're\", \"we've\", \"were\", \"what\", \"what's\", \"when\", \"when's\", \"where\", \"where's\", \"which\", \"while\", \"who\", \"who's\", \"whom\", \"why\", \"why's\", \"with\", \"would\", \"you\", \"you'd\", \"you'll\", \"you're\", \"you've\", \"your\", \"yours\", \"yourself\", \"yourselves\" ]"
   ]
  },
  {
   "cell_type": "code",
   "execution_count": 4,
   "metadata": {},
   "outputs": [],
   "source": [
    "emoj = re.compile(\"[\"\n",
    "        u\"\\U0001F600-\\U0001F64F\"  # emoticons\n",
    "        u\"\\U0001F300-\\U0001F5FF\"  # symbols & pictographs\n",
    "        u\"\\U0001F680-\\U0001F6FF\"  # transport & map symbols\n",
    "        u\"\\U0001F1E0-\\U0001F1FF\"  # flags (iOS)\n",
    "        u\"\\U00002500-\\U00002BEF\"  # chinese char\n",
    "        u\"\\U00002702-\\U000027B0\"\n",
    "        u\"\\U000024C2-\\U0001F251\"\n",
    "        u\"\\U0001f926-\\U0001f937\"\n",
    "        u\"\\U00010000-\\U0010ffff\"\n",
    "        u\"\\u2640-\\u2642\" \n",
    "        u\"\\u2600-\\u2B55\"\n",
    "        u\"\\u200d\"\n",
    "        u\"\\u23cf\"\n",
    "        u\"\\u23e9\"\n",
    "        u\"\\u231a\"\n",
    "        u\"\\ufe0f\"  # dingbats\n",
    "        u\"\\u3030\"\n",
    "                      \"]+\", re.UNICODE)"
   ]
  },
  {
   "cell_type": "code",
   "execution_count": 8,
   "metadata": {},
   "outputs": [],
   "source": [
    "sentences = []\n",
    "labels = []\n",
    "\n",
    "with open(FILENAME, 'r') as csvfile:\n",
    "    heading = next(csvfile)\n",
    "    reader_obj = csv.reader(csvfile) \n",
    "    for row in reader_obj: \n",
    "        sentence = row[0].lower()\n",
    "        # remove stopwords\n",
    "        for word in STOPWORDS:\n",
    "            if word[0] == \"'\":\n",
    "                sentence = re.sub(rf\"{word}\\b\", \"\", sentence)\n",
    "            else:\n",
    "                sentence = re.sub(rf\"\\b{word}\\b\", \"\", sentence)\n",
    "\n",
    "        sentence = re.sub(r'[!\"“’#$%&()\\*\\+,-\\./:;<=>?@\\[\\\\\\]^_`{|}~\\']', ' ', sentence) # remove punctuation mark\n",
    "        sentence = re.sub(emoj, ' ', sentence) # remove emoji\n",
    "        sentence = re.sub(r'\\d+', ' ', sentence) # remove number\n",
    "        sentence = re.sub(r' [a-z] ', ' ', sentence) # remove single character\n",
    "        sentence = re.sub(r'\\s+', ' ', sentence) # remove multiple spaces\n",
    "\n",
    "        if len(sentence.strip()) > 0:\n",
    "            labels.append(row[1])\n",
    "            sentences.append(sentence)"
   ]
  },
  {
   "cell_type": "code",
   "execution_count": 9,
   "metadata": {},
   "outputs": [],
   "source": [
    "with open(\"data/a/cleaned_data_processed.csv\", 'w') as csvfile:\n",
    "    # creating a csv writer object\n",
    "    csvwriter = csv.writer(csvfile)\n",
    "\n",
    "    # writing the fields\n",
    "    csvwriter.writerow([\"statement\", \"status\"])\n",
    "\n",
    "    for row in zip(sentences, labels):\n",
    "        csvwriter.writerow(row)"
   ]
  },
  {
   "cell_type": "code",
   "execution_count": 10,
   "metadata": {},
   "outputs": [
    {
     "name": "stdout",
     "output_type": "stream",
     "text": [
      "Empty sentences at indices: []\n"
     ]
    }
   ],
   "source": [
    "empty_indices = [i for i, sentence in enumerate(sentences) if len(sentence.strip()) == 0]\n",
    "print(f\"Empty sentences at indices: {empty_indices}\")"
   ]
  },
  {
   "cell_type": "code",
   "execution_count": 45,
   "metadata": {},
   "outputs": [
    {
     "name": "stdout",
     "output_type": "stream",
     "text": [
      "Mean length: 54.76814464730453\n",
      "Median length: 30.0\n",
      "90th percentile: 134.0\n"
     ]
    }
   ],
   "source": [
    "sequence_lengths = [len(sentence.split()) for sentence in sentences]\n",
    "print(\"Mean length:\", np.mean(sequence_lengths))\n",
    "print(\"Median length:\", np.median(sequence_lengths))\n",
    "print(\"90th percentile:\", np.percentile(sequence_lengths, 90))"
   ]
  },
  {
   "cell_type": "code",
   "execution_count": 11,
   "metadata": {},
   "outputs": [
    {
     "name": "stderr",
     "output_type": "stream",
     "text": [
      "I0000 00:00:1731706754.348329   12210 gpu_device.cc:2022] Created device /job:localhost/replica:0/task:0/device:GPU:0 with 1753 MB memory:  -> device: 0, name: NVIDIA GeForce RTX 3050 Ti Laptop GPU, pci bus id: 0000:01:00.0, compute capability: 8.6\n"
     ]
    }
   ],
   "source": [
    "dataset = tf.data.Dataset.from_tensor_slices((sentences, labels))\n",
    "\n",
    "dataset = dataset.shuffle(buffer_size=len(sentences))"
   ]
  },
  {
   "cell_type": "code",
   "execution_count": 12,
   "metadata": {},
   "outputs": [
    {
     "name": "stdout",
     "output_type": "stream",
     "text": [
      "There are 40794 sentence-label pairs for training.\n",
      "\n",
      "There are 10199 sentence-label pairs for validation.\n",
      "\n"
     ]
    }
   ],
   "source": [
    "train_size = int(len(sentences) * TRAINING_SPLIT)\n",
    "train_dataset = dataset.take(train_size)\n",
    "validation_dataset = dataset.skip(train_size)\n",
    "\n",
    "print(f\"There are {train_dataset.cardinality()} sentence-label pairs for training.\\n\")\n",
    "print(f\"There are {validation_dataset.cardinality()} sentence-label pairs for validation.\\n\")"
   ]
  },
  {
   "cell_type": "code",
   "execution_count": null,
   "metadata": {},
   "outputs": [],
   "source": [
    "# clean memory\n",
    "del sentences\n",
    "del labels\n",
    "del dataset\n",
    "del emoj"
   ]
  },
  {
   "cell_type": "code",
   "execution_count": 47,
   "metadata": {},
   "outputs": [],
   "source": [
    "def fit_vectorizer(train_sentences, standardize_func):\n",
    "    '''\n",
    "    Defines and adapts the text vectorizer\n",
    "\n",
    "    Args:\n",
    "        train_sentences (tf.data.Dataset): sentences from the train dataset to fit the TextVectorization layer\n",
    "        standardize_func (FunctionType): function to remove stopwords and punctuation, and lowercase texts.\n",
    "    Returns:\n",
    "        TextVectorization: adapted instance of TextVectorization layer\n",
    "    '''\n",
    "    ### START CODE HERE ###\n",
    "    \n",
    "    # Instantiate the TextVectorization class, passing in the correct values for the given parameters below\n",
    "    vectorizer = tf.keras.layers.TextVectorization( \n",
    "\t\tstandardize=standardize_func,\n",
    "\t\tmax_tokens=VOCAB_SIZE,\n",
    "\t\toutput_sequence_length=MAX_LENGTH\n",
    "\t) \n",
    "    \n",
    "    # Adapt the vectorizer to the training sentences\n",
    "    vectorizer.adapt(train_sentences)\n",
    "\t\n",
    "    ### END CODE HERE ###\n",
    "    \n",
    "    return vectorizer"
   ]
  },
  {
   "cell_type": "code",
   "execution_count": 48,
   "metadata": {},
   "outputs": [
    {
     "name": "stdout",
     "output_type": "stream",
     "text": [
      "Vocabulary contains 10000 words\n",
      "\n"
     ]
    }
   ],
   "source": [
    "# Create the vectorizer\n",
    "text_only_dataset = train_dataset.map(lambda text, label: text)\n",
    "\n",
    "# adapt\n",
    "vectorizer = fit_vectorizer(text_only_dataset, None)\n",
    "\n",
    "# # skip adapt\n",
    "# # Load the vocabulary from the file\n",
    "# with open(\"vocabulary.txt\", \"r\") as f:\n",
    "#     vocab = [line.strip() for line in f]\n",
    "\n",
    "# # Reinitialize the vectorizer and set the vocabulary directly\n",
    "# vectorizer = tf.keras.layers.TextVectorization(max_tokens=10000, output_mode=\"int\")\n",
    "# vectorizer.set_vocabulary(vocab)\n",
    "\n",
    "vocab_size = vectorizer.vocabulary_size()\n",
    "print(f\"Vocabulary contains {vocab_size} words\\n\")"
   ]
  },
  {
   "cell_type": "code",
   "execution_count": 49,
   "metadata": {},
   "outputs": [],
   "source": [
    "# Extract the vocabulary\n",
    "vocab = vectorizer.get_vocabulary()\n",
    "\n",
    "# Save the vocabulary to a file\n",
    "with open(\"vocabulary.txt\", \"w\") as f:\n",
    "    for word in vocab:\n",
    "        f.write(word + \"\\n\")"
   ]
  },
  {
   "cell_type": "code",
   "execution_count": 50,
   "metadata": {},
   "outputs": [],
   "source": [
    "def fit_label_encoder(train_labels, validation_labels):\n",
    "    \"\"\"Creates an instance of a StringLookup, and trains it on all labels\n",
    "\n",
    "    Args:\n",
    "        train_labels (tf.data.Dataset): dataset of train labels\n",
    "        validation_labels (tf.data.Dataset): dataset of validation labels\n",
    "\n",
    "    Returns:\n",
    "        tf.keras.layers.StringLookup: adapted encoder for train and validation labels\n",
    "    \"\"\"\n",
    "    # join the two label datasets\n",
    "    labels = train_labels.concatenate(validation_labels) #concatenate the two datasets.\n",
    "    \n",
    "    # Instantiate the StringLookup layer. Remember that you don't want any OOV tokens\n",
    "    label_encoder = tf.keras.layers.StringLookup(num_oov_indices=0)\n",
    "    \n",
    "    # Fit the TextVectorization layer on the train_labels\n",
    "    label_encoder.adapt(labels)\n",
    "   \n",
    "    return label_encoder"
   ]
  },
  {
   "cell_type": "code",
   "execution_count": 21,
   "metadata": {},
   "outputs": [
    {
     "name": "stdout",
     "output_type": "stream",
     "text": [
      "Unique labels: [np.str_('Normal'), np.str_('Depression'), np.str_('Suicidal'), np.str_('Anxiety'), np.str_('Bipolar'), np.str_('Stress'), np.str_('Personality disorder')]\n"
     ]
    }
   ],
   "source": [
    "# Create the label encoder\n",
    "train_labels_only = train_dataset.map(lambda text, label: label)\n",
    "validation_labels_only = validation_dataset.map(lambda text, label: label)\n",
    "\n",
    "label_encoder = fit_label_encoder(train_labels_only,validation_labels_only)\n",
    "                                  \n",
    "print(f'Unique labels: {label_encoder.get_vocabulary()}')"
   ]
  },
  {
   "cell_type": "code",
<<<<<<< Updated upstream:notebook.ipynb
   "execution_count": 51,
=======
   "execution_count": null,
>>>>>>> Stashed changes:train_model.ipynb
   "metadata": {},
   "outputs": [],
   "source": [
    "def preprocess_dataset(dataset, text_vectorizer, label_encoder):\n",
    "    \"\"\"Apply the preprocessing to a dataset\n",
    "\n",
    "    Args:\n",
    "        dataset (tf.data.Dataset): dataset to preprocess\n",
    "        text_vectorizer (tf.keras.layers.TextVectorization ): text vectorizer\n",
    "        label_encoder (tf.keras.layers.StringLookup): label encoder\n",
    "\n",
    "    Returns:\n",
    "        tf.data.Dataset: transformed dataset\n",
    "    \"\"\"\n",
    "    \n",
    "    ### START CODE HERE ###\n",
    "\n",
<<<<<<< Updated upstream:notebook.ipynb
    "    # Convert the Dataset sentences to sequences, and encode the text labels\n",
    "    dataset = dataset.map(lambda text, label:(text_vectorizer(text), label_encoder(label)))\n",
    "    dataset = dataset.batch(BATCH_SIZE) # Set a batchsize of 32\n",
    "    \n",
    "\t### END CODE HERE ###\n",
    "    \n",
    "    return dataset"
=======
    "  # Pad the sequences\n",
    "  padded_sequences = tf.keras.utils.pad_sequences(sequences.numpy(), \n",
    "                                                  maxlen=MAX_LENGTH, \n",
    "                                                  truncating=TRUNC_TYPE, \n",
    "                                                  padding=PADDING_TYPE\n",
    "                                                  )\n",
    "\n",
    "  # Convert back to a tf.data.Dataset\n",
    "  padded_sequences = tf.data.Dataset.from_tensor_slices(padded_sequences)\n",
    "\n",
    "  return padded_sequences"
>>>>>>> Stashed changes:train_model.ipynb
   ]
  },
  {
   "cell_type": "code",
   "execution_count": 52,
   "metadata": {},
   "outputs": [
    {
     "name": "stdout",
     "output_type": "stream",
     "text": [
      "Number of batches in the train dataset: 1275\n",
      "Number of batches in the validation dataset: 319\n"
     ]
    }
   ],
   "source": [
    "# Preprocess dataset\n",
    "train_proc_dataset = preprocess_dataset(train_dataset, vectorizer, label_encoder)\n",
    "validation_proc_dataset = preprocess_dataset(validation_dataset, vectorizer, label_encoder)\n",
    "\n",
    "print(f\"Number of batches in the train dataset: {train_proc_dataset.cardinality()}\")\n",
    "print(f\"Number of batches in the validation dataset: {validation_proc_dataset.cardinality()}\")"
   ]
  },
  {
   "cell_type": "code",
   "execution_count": 53,
   "metadata": {},
   "outputs": [
    {
     "name": "stdout",
     "output_type": "stream",
     "text": [
      "Shape of the train batch: (32, 134)\n",
      "Shape of the validation batch: (32, 134)\n"
     ]
    }
   ],
   "source": [
    "train_batch = next(train_proc_dataset.as_numpy_iterator())\n",
    "validation_batch = next(validation_proc_dataset.as_numpy_iterator())\n",
    "\n",
    "print(f\"Shape of the train batch: {train_batch[0].shape}\")\n",
    "print(f\"Shape of the validation batch: {validation_batch[0].shape}\")"
   ]
  },
  {
   "cell_type": "code",
   "execution_count": 54,
   "metadata": {},
   "outputs": [],
   "source": [
    "def create_model():\n",
    "    \"\"\"\n",
    "    Creates a text classifier model\n",
    "    Returns:\n",
    "      tf.keras Model: the text classifier model\n",
    "    \"\"\"\n",
    "   \n",
    "    ### START CODE HERE ###\n",
    "\t\n",
    "    # Define your model\n",
    "    model = tf.keras.Sequential([ \n",
    "        tf.keras.Input(shape=(MAX_LENGTH,)),\n",
    "        tf.keras.layers.Embedding(VOCAB_SIZE, EMBEDDING_DIM),\n",
    "        tf.keras.layers.GlobalAveragePooling1D(),\n",
    "        tf.keras.layers.Dense(16, activation='relu'),\n",
    "        tf.keras.layers.Dense(7, activation='softmax')\n",
    "    ])\n",
    "    \n",
    "    # Compile model. Set an appropriate loss, optimizer and metrics\n",
    "    model.compile(\n",
    "\t\tloss='sparse_categorical_crossentropy',\n",
    "\t\toptimizer='adam',\n",
    "\t\tmetrics=['accuracy'] \n",
    "\t) \n",
    "\n",
    "    ### END CODE HERE ###\n",
    "\n",
    "    return model"
   ]
  },
  {
   "cell_type": "code",
   "execution_count": 55,
   "metadata": {},
   "outputs": [],
   "source": [
    "# Get the untrained model\n",
    "model = create_model()"
   ]
  },
  {
   "cell_type": "code",
   "execution_count": 56,
   "metadata": {},
   "outputs": [
    {
     "name": "stdout",
     "output_type": "stream",
     "text": [
      "predictions have shape: (32, 7)\n"
     ]
    }
   ],
   "source": [
    "example_batch = train_proc_dataset.take(1)\n",
    "\n",
    "try:\n",
    "\tmodel.evaluate(example_batch, verbose=False)\n",
    "except:\n",
    "\tprint(\"Your model is not compatible with the dataset you defined earlier. Check that the loss function and last layer are compatible with one another.\")\n",
    "else:\n",
    "\tpredictions = model.predict(example_batch, verbose=False)\n",
    "\tprint(f\"predictions have shape: {predictions.shape}\")"
   ]
  },
  {
   "cell_type": "code",
   "execution_count": 57,
   "metadata": {},
   "outputs": [
    {
     "name": "stdout",
     "output_type": "stream",
     "text": [
      "Epoch 1/30\n",
      "\u001b[1m1275/1275\u001b[0m \u001b[32m━━━━━━━━━━━━━━━━━━━━\u001b[0m\u001b[37m\u001b[0m \u001b[1m14s\u001b[0m 10ms/step - accuracy: 0.4489 - loss: 1.4400 - val_accuracy: 0.5797 - val_loss: 1.0787\n",
      "Epoch 2/30\n",
      "\u001b[1m1275/1275\u001b[0m \u001b[32m━━━━━━━━━━━━━━━━━━━━\u001b[0m\u001b[37m\u001b[0m \u001b[1m13s\u001b[0m 10ms/step - accuracy: 0.6051 - loss: 1.0376 - val_accuracy: 0.6518 - val_loss: 0.9250\n",
      "Epoch 3/30\n",
      "\u001b[1m1275/1275\u001b[0m \u001b[32m━━━━━━━━━━━━━━━━━━━━\u001b[0m\u001b[37m\u001b[0m \u001b[1m12s\u001b[0m 9ms/step - accuracy: 0.6499 - loss: 0.9112 - val_accuracy: 0.6828 - val_loss: 0.8360\n",
      "Epoch 4/30\n",
      "\u001b[1m1275/1275\u001b[0m \u001b[32m━━━━━━━━━━━━━━━━━━━━\u001b[0m\u001b[37m\u001b[0m \u001b[1m12s\u001b[0m 10ms/step - accuracy: 0.6815 - loss: 0.8312 - val_accuracy: 0.7117 - val_loss: 0.7648\n",
      "Epoch 5/30\n",
      "\u001b[1m1275/1275\u001b[0m \u001b[32m━━━━━━━━━━━━━━━━━━━━\u001b[0m\u001b[37m\u001b[0m \u001b[1m11s\u001b[0m 9ms/step - accuracy: 0.7086 - loss: 0.7688 - val_accuracy: 0.7398 - val_loss: 0.6955\n",
      "Epoch 6/30\n",
      "\u001b[1m1275/1275\u001b[0m \u001b[32m━━━━━━━━━━━━━━━━━━━━\u001b[0m\u001b[37m\u001b[0m \u001b[1m12s\u001b[0m 9ms/step - accuracy: 0.7404 - loss: 0.6972 - val_accuracy: 0.7458 - val_loss: 0.6599\n",
      "Epoch 7/30\n",
      "\u001b[1m1275/1275\u001b[0m \u001b[32m━━━━━━━━━━━━━━━━━━━━\u001b[0m\u001b[37m\u001b[0m \u001b[1m11s\u001b[0m 9ms/step - accuracy: 0.7539 - loss: 0.6638 - val_accuracy: 0.7707 - val_loss: 0.6185\n",
      "Epoch 8/30\n",
      "\u001b[1m1275/1275\u001b[0m \u001b[32m━━━━━━━━━━━━━━━━━━━━\u001b[0m\u001b[37m\u001b[0m \u001b[1m11s\u001b[0m 9ms/step - accuracy: 0.7702 - loss: 0.6225 - val_accuracy: 0.7828 - val_loss: 0.6045\n",
      "Epoch 9/30\n",
      "\u001b[1m1275/1275\u001b[0m \u001b[32m━━━━━━━━━━━━━━━━━━━━\u001b[0m\u001b[37m\u001b[0m \u001b[1m11s\u001b[0m 9ms/step - accuracy: 0.7814 - loss: 0.5904 - val_accuracy: 0.7858 - val_loss: 0.5710\n",
      "Epoch 10/30\n",
      "\u001b[1m1275/1275\u001b[0m \u001b[32m━━━━━━━━━━━━━━━━━━━━\u001b[0m\u001b[37m\u001b[0m \u001b[1m11s\u001b[0m 9ms/step - accuracy: 0.7883 - loss: 0.5636 - val_accuracy: 0.8039 - val_loss: 0.5363\n",
      "Epoch 11/30\n",
      "\u001b[1m1275/1275\u001b[0m \u001b[32m━━━━━━━━━━━━━━━━━━━━\u001b[0m\u001b[37m\u001b[0m \u001b[1m12s\u001b[0m 9ms/step - accuracy: 0.8034 - loss: 0.5373 - val_accuracy: 0.8111 - val_loss: 0.5215\n",
      "Epoch 12/30\n",
      "\u001b[1m1275/1275\u001b[0m \u001b[32m━━━━━━━━━━━━━━━━━━━━\u001b[0m\u001b[37m\u001b[0m \u001b[1m11s\u001b[0m 8ms/step - accuracy: 0.8135 - loss: 0.5149 - val_accuracy: 0.8244 - val_loss: 0.5096\n",
      "Epoch 13/30\n",
      "\u001b[1m1275/1275\u001b[0m \u001b[32m━━━━━━━━━━━━━━━━━━━━\u001b[0m\u001b[37m\u001b[0m \u001b[1m12s\u001b[0m 9ms/step - accuracy: 0.8140 - loss: 0.4989 - val_accuracy: 0.8310 - val_loss: 0.4766\n",
      "Epoch 14/30\n",
      "\u001b[1m1275/1275\u001b[0m \u001b[32m━━━━━━━━━━━━━━━━━━━━\u001b[0m\u001b[37m\u001b[0m \u001b[1m11s\u001b[0m 8ms/step - accuracy: 0.8216 - loss: 0.4867 - val_accuracy: 0.8348 - val_loss: 0.4564\n",
      "Epoch 15/30\n",
      "\u001b[1m1275/1275\u001b[0m \u001b[32m━━━━━━━━━━━━━━━━━━━━\u001b[0m\u001b[37m\u001b[0m \u001b[1m11s\u001b[0m 9ms/step - accuracy: 0.8257 - loss: 0.4748 - val_accuracy: 0.8318 - val_loss: 0.4559\n",
      "Epoch 16/30\n",
      "\u001b[1m1275/1275\u001b[0m \u001b[32m━━━━━━━━━━━━━━━━━━━━\u001b[0m\u001b[37m\u001b[0m \u001b[1m12s\u001b[0m 9ms/step - accuracy: 0.8295 - loss: 0.4659 - val_accuracy: 0.8395 - val_loss: 0.4306\n",
      "Epoch 17/30\n",
      "\u001b[1m1275/1275\u001b[0m \u001b[32m━━━━━━━━━━━━━━━━━━━━\u001b[0m\u001b[37m\u001b[0m \u001b[1m12s\u001b[0m 9ms/step - accuracy: 0.8391 - loss: 0.4466 - val_accuracy: 0.8419 - val_loss: 0.4275\n",
      "Epoch 18/30\n",
      "\u001b[1m1275/1275\u001b[0m \u001b[32m━━━━━━━━━━━━━━━━━━━━\u001b[0m\u001b[37m\u001b[0m \u001b[1m12s\u001b[0m 9ms/step - accuracy: 0.8421 - loss: 0.4335 - val_accuracy: 0.8610 - val_loss: 0.3911\n",
      "Epoch 19/30\n",
      "\u001b[1m1275/1275\u001b[0m \u001b[32m━━━━━━━━━━━━━━━━━━━━\u001b[0m\u001b[37m\u001b[0m \u001b[1m12s\u001b[0m 9ms/step - accuracy: 0.8483 - loss: 0.4234 - val_accuracy: 0.8580 - val_loss: 0.4002\n",
      "Epoch 20/30\n",
      "\u001b[1m1275/1275\u001b[0m \u001b[32m━━━━━━━━━━━━━━━━━━━━\u001b[0m\u001b[37m\u001b[0m \u001b[1m11s\u001b[0m 9ms/step - accuracy: 0.8529 - loss: 0.4033 - val_accuracy: 0.8558 - val_loss: 0.3954\n",
      "Epoch 21/30\n",
      "\u001b[1m1275/1275\u001b[0m \u001b[32m━━━━━━━━━━━━━━━━━━━━\u001b[0m\u001b[37m\u001b[0m \u001b[1m11s\u001b[0m 9ms/step - accuracy: 0.8610 - loss: 0.3879 - val_accuracy: 0.8605 - val_loss: 0.3896\n",
      "Epoch 22/30\n",
      "\u001b[1m1275/1275\u001b[0m \u001b[32m━━━━━━━━━━━━━━━━━━━━\u001b[0m\u001b[37m\u001b[0m \u001b[1m11s\u001b[0m 9ms/step - accuracy: 0.8612 - loss: 0.3896 - val_accuracy: 0.8737 - val_loss: 0.3648\n",
      "Epoch 23/30\n",
      "\u001b[1m1275/1275\u001b[0m \u001b[32m━━━━━━━━━━━━━━━━━━━━\u001b[0m\u001b[37m\u001b[0m \u001b[1m12s\u001b[0m 9ms/step - accuracy: 0.8660 - loss: 0.3728 - val_accuracy: 0.8553 - val_loss: 0.3848\n",
      "Epoch 24/30\n",
      "\u001b[1m1275/1275\u001b[0m \u001b[32m━━━━━━━━━━━━━━━━━━━━\u001b[0m\u001b[37m\u001b[0m \u001b[1m11s\u001b[0m 9ms/step - accuracy: 0.8665 - loss: 0.3672 - val_accuracy: 0.8833 - val_loss: 0.3419\n",
      "Epoch 25/30\n",
      "\u001b[1m1275/1275\u001b[0m \u001b[32m━━━━━━━━━━━━━━━━━━━━\u001b[0m\u001b[37m\u001b[0m \u001b[1m12s\u001b[0m 9ms/step - accuracy: 0.8716 - loss: 0.3589 - val_accuracy: 0.8574 - val_loss: 0.3842\n",
      "Epoch 26/30\n",
      "\u001b[1m1275/1275\u001b[0m \u001b[32m━━━━━━━━━━━━━━━━━━━━\u001b[0m\u001b[37m\u001b[0m \u001b[1m12s\u001b[0m 9ms/step - accuracy: 0.8727 - loss: 0.3514 - val_accuracy: 0.8728 - val_loss: 0.3525\n",
      "Epoch 27/30\n",
      "\u001b[1m1275/1275\u001b[0m \u001b[32m━━━━━━━━━━━━━━━━━━━━\u001b[0m\u001b[37m\u001b[0m \u001b[1m11s\u001b[0m 9ms/step - accuracy: 0.8739 - loss: 0.3499 - val_accuracy: 0.8891 - val_loss: 0.3140\n",
      "Epoch 28/30\n",
      "\u001b[1m1275/1275\u001b[0m \u001b[32m━━━━━━━━━━━━━━━━━━━━\u001b[0m\u001b[37m\u001b[0m \u001b[1m12s\u001b[0m 9ms/step - accuracy: 0.8811 - loss: 0.3367 - val_accuracy: 0.8955 - val_loss: 0.3070\n",
      "Epoch 29/30\n",
      "\u001b[1m1275/1275\u001b[0m \u001b[32m━━━━━━━━━━━━━━━━━━━━\u001b[0m\u001b[37m\u001b[0m \u001b[1m12s\u001b[0m 9ms/step - accuracy: 0.8829 - loss: 0.3256 - val_accuracy: 0.8838 - val_loss: 0.3321\n",
      "Epoch 30/30\n",
      "\u001b[1m1275/1275\u001b[0m \u001b[32m━━━━━━━━━━━━━━━━━━━━\u001b[0m\u001b[37m\u001b[0m \u001b[1m11s\u001b[0m 9ms/step - accuracy: 0.8885 - loss: 0.3183 - val_accuracy: 0.8924 - val_loss: 0.3049\n"
     ]
    }
   ],
   "source": [
    "history = model.fit(train_proc_dataset, epochs=30, validation_data=validation_proc_dataset)"
   ]
  },
  {
   "cell_type": "code",
   "execution_count": 58,
   "metadata": {},
   "outputs": [
    {
     "data": {
      "image/png": "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",
      "text/plain": [
       "<Figure size 640x480 with 1 Axes>"
      ]
     },
     "metadata": {},
     "output_type": "display_data"
    },
    {
     "data": {
      "image/png": "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",
      "text/plain": [
       "<Figure size 640x480 with 1 Axes>"
      ]
     },
     "metadata": {},
     "output_type": "display_data"
    }
   ],
   "source": [
    "def plot_graphs(history, metric):\n",
    "    plt.plot(history.history[metric])\n",
    "    plt.plot(history.history[f'val_{metric}'])\n",
    "    plt.xlabel(\"Epochs\")\n",
    "    plt.ylabel(metric)\n",
    "    plt.legend([metric, f'val_{metric}'])\n",
    "    plt.show()\n",
    "    \n",
    "plot_graphs(history, \"accuracy\")\n",
    "plot_graphs(history, \"loss\")"
   ]
  },
  {
   "cell_type": "code",
   "execution_count": 59,
   "metadata": {},
   "outputs": [
    {
     "data": {
      "text/html": [
       "<pre style=\"white-space:pre;overflow-x:auto;line-height:normal;font-family:Menlo,'DejaVu Sans Mono',consolas,'Courier New',monospace\"><span style=\"font-weight: bold\">Model: \"sequential_1\"</span>\n",
       "</pre>\n"
      ],
      "text/plain": [
       "\u001b[1mModel: \"sequential_1\"\u001b[0m\n"
      ]
     },
     "metadata": {},
     "output_type": "display_data"
    },
    {
     "data": {
      "text/html": [
       "<pre style=\"white-space:pre;overflow-x:auto;line-height:normal;font-family:Menlo,'DejaVu Sans Mono',consolas,'Courier New',monospace\">┏━━━━━━━━━━━━━━━━━━━━━━━━━━━━━━━━━┳━━━━━━━━━━━━━━━━━━━━━━━━┳━━━━━━━━━━━━━━━┓\n",
       "┃<span style=\"font-weight: bold\"> Layer (type)                    </span>┃<span style=\"font-weight: bold\"> Output Shape           </span>┃<span style=\"font-weight: bold\">       Param # </span>┃\n",
       "┡━━━━━━━━━━━━━━━━━━━━━━━━━━━━━━━━━╇━━━━━━━━━━━━━━━━━━━━━━━━╇━━━━━━━━━━━━━━━┩\n",
       "│ embedding_1 (<span style=\"color: #0087ff; text-decoration-color: #0087ff\">Embedding</span>)         │ (<span style=\"color: #00d7ff; text-decoration-color: #00d7ff\">None</span>, <span style=\"color: #00af00; text-decoration-color: #00af00\">134</span>, <span style=\"color: #00af00; text-decoration-color: #00af00\">16</span>)        │       <span style=\"color: #00af00; text-decoration-color: #00af00\">160,000</span> │\n",
       "├─────────────────────────────────┼────────────────────────┼───────────────┤\n",
       "│ global_average_pooling1d_1      │ (<span style=\"color: #00d7ff; text-decoration-color: #00d7ff\">None</span>, <span style=\"color: #00af00; text-decoration-color: #00af00\">16</span>)             │             <span style=\"color: #00af00; text-decoration-color: #00af00\">0</span> │\n",
       "│ (<span style=\"color: #0087ff; text-decoration-color: #0087ff\">GlobalAveragePooling1D</span>)        │                        │               │\n",
       "├─────────────────────────────────┼────────────────────────┼───────────────┤\n",
       "│ dense_2 (<span style=\"color: #0087ff; text-decoration-color: #0087ff\">Dense</span>)                 │ (<span style=\"color: #00d7ff; text-decoration-color: #00d7ff\">None</span>, <span style=\"color: #00af00; text-decoration-color: #00af00\">16</span>)             │           <span style=\"color: #00af00; text-decoration-color: #00af00\">272</span> │\n",
       "├─────────────────────────────────┼────────────────────────┼───────────────┤\n",
       "│ dense_3 (<span style=\"color: #0087ff; text-decoration-color: #0087ff\">Dense</span>)                 │ (<span style=\"color: #00d7ff; text-decoration-color: #00d7ff\">None</span>, <span style=\"color: #00af00; text-decoration-color: #00af00\">7</span>)              │           <span style=\"color: #00af00; text-decoration-color: #00af00\">119</span> │\n",
       "└─────────────────────────────────┴────────────────────────┴───────────────┘\n",
       "</pre>\n"
      ],
      "text/plain": [
       "┏━━━━━━━━━━━━━━━━━━━━━━━━━━━━━━━━━┳━━━━━━━━━━━━━━━━━━━━━━━━┳━━━━━━━━━━━━━━━┓\n",
       "┃\u001b[1m \u001b[0m\u001b[1mLayer (type)                   \u001b[0m\u001b[1m \u001b[0m┃\u001b[1m \u001b[0m\u001b[1mOutput Shape          \u001b[0m\u001b[1m \u001b[0m┃\u001b[1m \u001b[0m\u001b[1m      Param #\u001b[0m\u001b[1m \u001b[0m┃\n",
       "┡━━━━━━━━━━━━━━━━━━━━━━━━━━━━━━━━━╇━━━━━━━━━━━━━━━━━━━━━━━━╇━━━━━━━━━━━━━━━┩\n",
       "│ embedding_1 (\u001b[38;5;33mEmbedding\u001b[0m)         │ (\u001b[38;5;45mNone\u001b[0m, \u001b[38;5;34m134\u001b[0m, \u001b[38;5;34m16\u001b[0m)        │       \u001b[38;5;34m160,000\u001b[0m │\n",
       "├─────────────────────────────────┼────────────────────────┼───────────────┤\n",
       "│ global_average_pooling1d_1      │ (\u001b[38;5;45mNone\u001b[0m, \u001b[38;5;34m16\u001b[0m)             │             \u001b[38;5;34m0\u001b[0m │\n",
       "│ (\u001b[38;5;33mGlobalAveragePooling1D\u001b[0m)        │                        │               │\n",
       "├─────────────────────────────────┼────────────────────────┼───────────────┤\n",
       "│ dense_2 (\u001b[38;5;33mDense\u001b[0m)                 │ (\u001b[38;5;45mNone\u001b[0m, \u001b[38;5;34m16\u001b[0m)             │           \u001b[38;5;34m272\u001b[0m │\n",
       "├─────────────────────────────────┼────────────────────────┼───────────────┤\n",
       "│ dense_3 (\u001b[38;5;33mDense\u001b[0m)                 │ (\u001b[38;5;45mNone\u001b[0m, \u001b[38;5;34m7\u001b[0m)              │           \u001b[38;5;34m119\u001b[0m │\n",
       "└─────────────────────────────────┴────────────────────────┴───────────────┘\n"
      ]
     },
     "metadata": {},
     "output_type": "display_data"
    },
    {
     "data": {
      "text/html": [
       "<pre style=\"white-space:pre;overflow-x:auto;line-height:normal;font-family:Menlo,'DejaVu Sans Mono',consolas,'Courier New',monospace\"><span style=\"font-weight: bold\"> Total params: </span><span style=\"color: #00af00; text-decoration-color: #00af00\">481,175</span> (1.84 MB)\n",
       "</pre>\n"
      ],
      "text/plain": [
       "\u001b[1m Total params: \u001b[0m\u001b[38;5;34m481,175\u001b[0m (1.84 MB)\n"
      ]
     },
     "metadata": {},
     "output_type": "display_data"
    },
    {
     "data": {
      "text/html": [
       "<pre style=\"white-space:pre;overflow-x:auto;line-height:normal;font-family:Menlo,'DejaVu Sans Mono',consolas,'Courier New',monospace\"><span style=\"font-weight: bold\"> Trainable params: </span><span style=\"color: #00af00; text-decoration-color: #00af00\">160,391</span> (626.53 KB)\n",
       "</pre>\n"
      ],
      "text/plain": [
       "\u001b[1m Trainable params: \u001b[0m\u001b[38;5;34m160,391\u001b[0m (626.53 KB)\n"
      ]
     },
     "metadata": {},
     "output_type": "display_data"
    },
    {
     "data": {
      "text/html": [
       "<pre style=\"white-space:pre;overflow-x:auto;line-height:normal;font-family:Menlo,'DejaVu Sans Mono',consolas,'Courier New',monospace\"><span style=\"font-weight: bold\"> Non-trainable params: </span><span style=\"color: #00af00; text-decoration-color: #00af00\">0</span> (0.00 B)\n",
       "</pre>\n"
      ],
      "text/plain": [
       "\u001b[1m Non-trainable params: \u001b[0m\u001b[38;5;34m0\u001b[0m (0.00 B)\n"
      ]
     },
     "metadata": {},
     "output_type": "display_data"
    },
    {
     "data": {
      "text/html": [
       "<pre style=\"white-space:pre;overflow-x:auto;line-height:normal;font-family:Menlo,'DejaVu Sans Mono',consolas,'Courier New',monospace\"><span style=\"font-weight: bold\"> Optimizer params: </span><span style=\"color: #00af00; text-decoration-color: #00af00\">320,784</span> (1.22 MB)\n",
       "</pre>\n"
      ],
      "text/plain": [
       "\u001b[1m Optimizer params: \u001b[0m\u001b[38;5;34m320,784\u001b[0m (1.22 MB)\n"
      ]
     },
     "metadata": {},
     "output_type": "display_data"
    }
   ],
   "source": [
    "model.summary()"
   ]
  },
  {
   "cell_type": "code",
   "execution_count": 63,
   "metadata": {},
   "outputs": [
    {
     "name": "stdout",
     "output_type": "stream",
     "text": [
      "tf.Tensor(\n",
      "[[   1    1   57    1    1   44    1   20    1    1 1225   71    0    0\n",
      "     0    0    0    0    0    0    0    0    0    0    0    0    0    0\n",
      "     0    0    0    0    0    0    0    0    0    0    0    0    0    0\n",
      "     0    0    0    0    0    0    0    0    0    0    0    0    0    0\n",
      "     0    0    0    0    0    0    0    0    0    0    0    0    0    0\n",
      "     0    0    0    0    0    0    0    0    0    0    0    0    0    0\n",
      "     0    0    0    0    0    0    0    0    0    0    0    0    0    0\n",
      "     0    0    0    0    0    0    0    0    0    0    0    0    0    0\n",
      "     0    0    0    0    0    0    0    0    0    0    0    0    0    0\n",
      "     0    0    0    0    0    0    0    0]], shape=(1, 134), dtype=int64)\n",
      "\u001b[1m1/1\u001b[0m \u001b[32m━━━━━━━━━━━━━━━━━━━━\u001b[0m\u001b[37m\u001b[0m \u001b[1m0s\u001b[0m 15ms/step\n",
      "[[1.5529655e-01 1.2714443e-01 7.1171218e-01 1.4638950e-03 2.3775264e-03\n",
      "  3.4936532e-04 1.6559479e-03]]\n",
      "Predicted class: Suicidal\n"
     ]
    }
   ],
   "source": [
    "rawtext_test = [\"I can't take it anymore, everything is going wrong, i wanna die\"]\n",
    "sequence_test = vectorizer(rawtext_test)\n",
    "print(sequence_test)\n",
    "predictions = model.predict(sequence_test)\n",
    "\n",
    "# predictions will be a numpy array of shape (1, num_classes) with probabilities for each class\n",
    "print(predictions)\n",
    "\n",
    "# To get the predicted class index\n",
    "predicted_class_index = tf.argmax(predictions, axis=1).numpy()[0]\n",
    "print(f\"Predicted class: {label_encoder.get_vocabulary()[predicted_class_index]}\")"
   ]
  },
  {
   "cell_type": "code",
   "execution_count": null,
   "metadata": {},
   "outputs": [],
   "source": []
  }
 ],
 "metadata": {
  "kernelspec": {
   "display_name": "capstone-project",
   "language": "python",
   "name": "python3"
  },
  "language_info": {
   "codemirror_mode": {
    "name": "ipython",
    "version": 3
   },
   "file_extension": ".py",
   "mimetype": "text/x-python",
   "name": "python",
   "nbconvert_exporter": "python",
   "pygments_lexer": "ipython3",
   "version": "3.11.10"
  }
 },
 "nbformat": 4,
 "nbformat_minor": 2
}
